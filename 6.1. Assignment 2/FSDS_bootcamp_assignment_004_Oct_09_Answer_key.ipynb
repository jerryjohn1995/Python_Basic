{
  "nbformat": 4,
  "nbformat_minor": 0,
  "metadata": {
    "colab": {
      "provenance": []
    },
    "kernelspec": {
      "name": "python3",
      "display_name": "Python 3"
    },
    "language_info": {
      "name": "python"
    }
  },
  "cells": [
    {
      "cell_type": "markdown",
      "source": [
        "#### Q1. Find the largest number from the given list, use for loop.\n",
        "    numbers = [12, 75, 150, 180, 145, 525, 50]"
      ],
      "metadata": {
        "id": "RDWB6V5G0mPu"
      }
    },
    {
      "cell_type": "code",
      "execution_count": null,
      "metadata": {
        "id": "vA8rpBuu0T_K",
        "outputId": "c48cc618-877c-4b52-b519-985d38e164bd",
        "colab": {
          "base_uri": "https://localhost:8080/"
        }
      },
      "outputs": [
        {
          "output_type": "stream",
          "name": "stdout",
          "text": [
            "Largest number in the given list is: 525\n"
          ]
        }
      ],
      "source": [
        "numbers = [12, 75, 150, 180, 145, 525, 50]\n",
        "largest=0\n",
        "for i in numbers:\n",
        "    if largest < i: \n",
        "        largest=i\n",
        "print(f\"Largest number in the given list is: {largest}\")\n",
        "    "
      ]
    },
    {
      "cell_type": "markdown",
      "source": [
        "#### Q2. Print all the even number between (1, 12).\n"
      ],
      "metadata": {
        "id": "msYLdm5n0qvW"
      }
    },
    {
      "cell_type": "code",
      "source": [
        "\n",
        "for i in range(1,13):\n",
        "    if not i%2==0: \n",
        "        print(i)"
      ],
      "metadata": {
        "id": "w-MEfsux0qHu",
        "outputId": "3ed887f5-5725-443f-ac8a-4667ca9f78ed",
        "colab": {
          "base_uri": "https://localhost:8080/"
        }
      },
      "execution_count": null,
      "outputs": [
        {
          "output_type": "stream",
          "name": "stdout",
          "text": [
            "1\n",
            "3\n",
            "5\n",
            "7\n",
            "9\n",
            "11\n"
          ]
        }
      ]
    },
    {
      "cell_type": "markdown",
      "source": [
        "Q3. Calculate the sum of all numbers from 1 to a given number\n",
        "\n",
        "Expected Output:\n",
        "\n",
        "Enter number 10\n",
        "\n",
        "Sum is:  55"
      ],
      "metadata": {
        "id": "fhVAQSoM00RN"
      }
    },
    {
      "cell_type": "code",
      "source": [
        "num=int(input(\"Enter a integer number: \"))\n",
        "sum=0\n",
        "for i in range(1,num+1):\n",
        "    sum+=i              #adding each number in list with sum\n",
        "print(f\"Sum is: {sum}\")"
      ],
      "metadata": {
        "id": "7XeFODG303R1",
        "outputId": "5a59b2c1-66b0-46ba-81b9-607cfd902276",
        "colab": {
          "base_uri": "https://localhost:8080/"
        }
      },
      "execution_count": null,
      "outputs": [
        {
          "output_type": "stream",
          "name": "stdout",
          "text": [
            "Enter a integer number: 10\n",
            "Sum is: 55\n"
          ]
        }
      ]
    },
    {
      "cell_type": "markdown",
      "source": [
        "Q4. Write a program to display only those numbers from a list that satisfy the following conditions\n",
        "\n",
        "    The number must be divisible by five\n",
        "\n",
        "    If the number is greater than 150, then skip it and move to the next number\n",
        "\n",
        "    If the number is greater than 500, then stop the loop\n",
        "    \n",
        "    #given\n",
        "    numbers = [12, 75, 150, 180, 145, 525, 50]\n"
      ],
      "metadata": {
        "id": "GIHJ0JJW05W9"
      }
    },
    {
      "cell_type": "code",
      "source": [
        "numbers = [12, 75, 150, 180, 145, 525, 50]\n",
        "for i in numbers:\n",
        "\n",
        "    if i % 5 ==0:\n",
        "        if i > 500:\n",
        "            break\n",
        "        if i>150:\n",
        "            continue\n",
        "        print(i)"
      ],
      "metadata": {
        "id": "3ga8zsGy07w0",
        "outputId": "02dc35d5-adef-4fb0-a586-1f0364ee2d6d",
        "colab": {
          "base_uri": "https://localhost:8080/"
        }
      },
      "execution_count": null,
      "outputs": [
        {
          "output_type": "stream",
          "name": "stdout",
          "text": [
            "75\n",
            "150\n",
            "145\n"
          ]
        }
      ]
    },
    {
      "cell_type": "markdown",
      "source": [
        "Q5. Print the given list in reverse order.\n",
        "\n",
        "list1 = [10, 20, 30, 40, 50]"
      ],
      "metadata": {
        "id": "oUNpi-5p0_-8"
      }
    },
    {
      "cell_type": "code",
      "source": [
        "list1 = [10, 20, 30, 40, 50]\n",
        "for i in reversed(list1):\n",
        "    print(i,end=\" \")"
      ],
      "metadata": {
        "id": "eGUp4KDE1CSI",
        "outputId": "c24717a2-1163-4a3d-d69a-2cd5e9d99a69",
        "colab": {
          "base_uri": "https://localhost:8080/"
        }
      },
      "execution_count": null,
      "outputs": [
        {
          "output_type": "stream",
          "name": "stdout",
          "text": [
            "50 40 30 20 10 "
          ]
        }
      ]
    },
    {
      "cell_type": "code",
      "source": [],
      "metadata": {
        "id": "jwfML4pcD-3j"
      },
      "execution_count": null,
      "outputs": []
    }
  ]
}