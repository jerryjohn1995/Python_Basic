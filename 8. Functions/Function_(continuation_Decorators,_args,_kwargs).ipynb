{
  "nbformat": 4,
  "nbformat_minor": 0,
  "metadata": {
    "colab": {
      "provenance": []
    },
    "kernelspec": {
      "name": "python3",
      "display_name": "Python 3"
    },
    "language_info": {
      "name": "python"
    }
  },
  "cells": [
    {
      "cell_type": "markdown",
      "source": [
        "# **1. Taking any number of elements (arguments) in a function**"
      ],
      "metadata": {
        "id": "i7kEl82BZSxM"
      }
    },
    {
      "cell_type": "code",
      "execution_count": 1,
      "metadata": {
        "colab": {
          "base_uri": "https://localhost:8080/"
        },
        "id": "_YMOdrulY_DP",
        "outputId": "bd609dc4-877e-4b22-f6d3-c8b243d18924"
      },
      "outputs": [
        {
          "output_type": "stream",
          "name": "stdout",
          "text": [
            "a is (1, 2, 3, 'jerry')\n"
          ]
        }
      ],
      "source": [
        "def test1(*args):\n",
        "  return args\n",
        "\n",
        "a = test1(1,2,3,\"jerry\")\n",
        "print(f\"a is {a}\")"
      ]
    },
    {
      "cell_type": "markdown",
      "source": [
        "# **2. Convert the output to list using typecasting**\n",
        "\n",
        "Because in default the return type is tuple, rather than taking each of the value and append to a list, typecasting is usefull and fatser.\n",
        "\n",
        "Where args is just a name we use `*` is the main thing."
      ],
      "metadata": {
        "id": "MomAAEmTaHzv"
      }
    },
    {
      "cell_type": "code",
      "source": [
        "#tuple\n",
        "\n",
        "a = (1,2,3)\n",
        "print(type(a))\n",
        "\n",
        "b = list(a)\n",
        "print(f\"b is {b}\")\n",
        "print(f\"type of {b} is {type(b)}\")"
      ],
      "metadata": {
        "colab": {
          "base_uri": "https://localhost:8080/"
        },
        "id": "pHYAkE2kaZI4",
        "outputId": "04ed2cb1-a405-443b-aa4c-46cde98a9d80"
      },
      "execution_count": null,
      "outputs": [
        {
          "output_type": "stream",
          "name": "stdout",
          "text": [
            "<class 'tuple'>\n",
            "b is [1, 2, 3]\n",
            "type of [1, 2, 3] is <class 'list'>\n"
          ]
        }
      ]
    },
    {
      "cell_type": "code",
      "source": [
        "def test1(*args):\n",
        "  return list(args)\n",
        "\n",
        "a = test1(1,2,3,\"jerry\")\n",
        "print(f\"a is {a}\")"
      ],
      "metadata": {
        "colab": {
          "base_uri": "https://localhost:8080/"
        },
        "id": "kDYg3T8cauHA",
        "outputId": "bdf4a099-3f3d-4cd8-a959-1c192e0079cf"
      },
      "execution_count": null,
      "outputs": [
        {
          "output_type": "stream",
          "name": "stdout",
          "text": [
            "a is [1, 2, 3, 'jerry']\n"
          ]
        }
      ]
    },
    {
      "cell_type": "markdown",
      "source": [
        "1.22"
      ],
      "metadata": {
        "id": "zON8Hl7jIM5r"
      }
    },
    {
      "cell_type": "markdown",
      "source": [
        "# **Function that will take n number of variable names and values (like dict, key value pair)**"
      ],
      "metadata": {
        "id": "VC0IMklBRCr4"
      }
    },
    {
      "cell_type": "code",
      "source": [
        "def test10(**kwargs):\n",
        "  return kwargs\n",
        "\n",
        "test10(a = 4, b = 5, c = 6, d = 7)"
      ],
      "metadata": {
        "colab": {
          "base_uri": "https://localhost:8080/"
        },
        "id": "qMWXnFDzRNu9",
        "outputId": "f612c2ec-3402-4e59-91af-5e3159d94dd0"
      },
      "execution_count": 2,
      "outputs": [
        {
          "output_type": "execute_result",
          "data": {
            "text/plain": [
              "{'a': 4, 'b': 5, 'c': 6, 'd': 7}"
            ]
          },
          "metadata": {},
          "execution_count": 2
        }
      ]
    },
    {
      "cell_type": "markdown",
      "source": [
        "# **Giving a function as a argument**"
      ],
      "metadata": {
        "id": "q_b7NdTpTKFl"
      }
    },
    {
      "cell_type": "code",
      "source": [
        "def test12(a):\n",
        "  return a\n",
        "\n",
        "def test12(b):\n",
        "  return b\n",
        "\n",
        "def test14(fun):\n",
        "  return fun(\"jerry\")"
      ],
      "metadata": {
        "id": "V0j0ougSTPgJ"
      },
      "execution_count": 3,
      "outputs": []
    },
    {
      "cell_type": "code",
      "source": [
        "test14(test12)"
      ],
      "metadata": {
        "colab": {
          "base_uri": "https://localhost:8080/",
          "height": 35
        },
        "id": "6A2jOvgkTdps",
        "outputId": "c4bfdf45-8f7a-44b3-dcf2-a206c3966ac7"
      },
      "execution_count": 4,
      "outputs": [
        {
          "output_type": "execute_result",
          "data": {
            "text/plain": [
              "'jerry'"
            ],
            "application/vnd.google.colaboratory.intrinsic+json": {
              "type": "string"
            }
          },
          "metadata": {},
          "execution_count": 4
        }
      ]
    },
    {
      "cell_type": "markdown",
      "source": [
        "# **Giving function inside a function**"
      ],
      "metadata": {
        "id": "EMC1c6s1aAER"
      }
    },
    {
      "cell_type": "code",
      "source": [
        "def test15():\n",
        "  print(\"This is test 15\")\n",
        "\n",
        "  def test16():\n",
        "    print(\"This is test 16\")\n",
        "\n",
        "  def test17():\n",
        "    print(\"This is test 17\")"
      ],
      "metadata": {
        "id": "1U4ot5ZPaHKJ"
      },
      "execution_count": 5,
      "outputs": []
    },
    {
      "cell_type": "code",
      "source": [
        "test15()"
      ],
      "metadata": {
        "colab": {
          "base_uri": "https://localhost:8080/"
        },
        "id": "uFuCZhTJZ6ni",
        "outputId": "cf1f1bd0-eef5-4d32-9574-c8ebc3df9ac0"
      },
      "execution_count": 6,
      "outputs": [
        {
          "output_type": "stream",
          "name": "stdout",
          "text": [
            "This is test 15\n"
          ]
        }
      ]
    },
    {
      "cell_type": "code",
      "source": [
        "test16() #Will show an error"
      ],
      "metadata": {
        "id": "qEbCjHcqagXz"
      },
      "execution_count": null,
      "outputs": []
    },
    {
      "cell_type": "code",
      "source": [
        "def test15(a):\n",
        "  print(\"This is test 15\")\n",
        "\n",
        "  def test16():\n",
        "    print(\"This is test 16\")\n",
        "\n",
        "  def test17():\n",
        "    print(\"This is test 17\")\n",
        "\n",
        "  if a == \"jerry\":\n",
        "    return test16()\n",
        "  elif a == \"basil\":\n",
        "    return test17()"
      ],
      "metadata": {
        "id": "WsUjS_ZQa6ZQ"
      },
      "execution_count": 9,
      "outputs": []
    },
    {
      "cell_type": "code",
      "source": [
        "test15(\"jerry\")"
      ],
      "metadata": {
        "colab": {
          "base_uri": "https://localhost:8080/"
        },
        "id": "bRMWT0XhbL-h",
        "outputId": "e24cb91c-0ba0-4b18-8f9d-9f35c463c978"
      },
      "execution_count": 10,
      "outputs": [
        {
          "output_type": "stream",
          "name": "stdout",
          "text": [
            "This is test 15\n",
            "This is test 16\n"
          ]
        }
      ]
    },
    {
      "cell_type": "code",
      "source": [
        "def test19():\n",
        "  print(\"This is test 19\")\n",
        "\n",
        "def test20(func):\n",
        "  print(\"This is test 20\")\n",
        "\n",
        "  def test21():\n",
        "    print(\"This is test 21\")\n",
        "\n",
        "    func()\n",
        "  \n",
        "  return test21()"
      ],
      "metadata": {
        "id": "EKD8_P_0coSa"
      },
      "execution_count": 13,
      "outputs": []
    },
    {
      "cell_type": "code",
      "source": [
        "test20(test19)"
      ],
      "metadata": {
        "colab": {
          "base_uri": "https://localhost:8080/"
        },
        "id": "jXX01zbxdE5C",
        "outputId": "2b440863-80c0-43d0-d8e1-a502b22535c2"
      },
      "execution_count": 15,
      "outputs": [
        {
          "output_type": "stream",
          "name": "stdout",
          "text": [
            "This is test 20\n",
            "This is test 21\n",
            "This is test 19\n"
          ]
        }
      ]
    },
    {
      "cell_type": "markdown",
      "source": [
        "# **Decorators**"
      ],
      "metadata": {
        "id": "9vMCxQkWk4B-"
      }
    },
    {
      "cell_type": "code",
      "source": [
        "\n",
        "\n",
        "def test20(func):\n",
        "  print(\"This is test 20\")\n",
        "\n",
        "  def test21():\n",
        "    print(\"This is test 21\")\n",
        "\n",
        "    func()\n",
        "  \n",
        "  return test21\n",
        "\n",
        "\n",
        "@test20\n",
        "def test19():\n",
        "  print(\"This is test 19\")"
      ],
      "metadata": {
        "colab": {
          "base_uri": "https://localhost:8080/"
        },
        "id": "EDc3dCGGk7OB",
        "outputId": "7f2f5169-f2d3-4088-f8b2-6e1e2ee69bd8"
      },
      "execution_count": 19,
      "outputs": [
        {
          "output_type": "stream",
          "name": "stdout",
          "text": [
            "This is test 20\n"
          ]
        }
      ]
    },
    {
      "cell_type": "code",
      "source": [
        "test19()"
      ],
      "metadata": {
        "colab": {
          "base_uri": "https://localhost:8080/"
        },
        "id": "QgxV5OeimS6W",
        "outputId": "c019ac08-69d8-405d-ca51-3928e7d4825d"
      },
      "execution_count": 20,
      "outputs": [
        {
          "output_type": "stream",
          "name": "stdout",
          "text": [
            "This is test 21\n",
            "This is test 19\n"
          ]
        }
      ]
    },
    {
      "cell_type": "markdown",
      "source": [
        "# **Use of decorator**\n",
        "\n",
        "You can use decorator to call a function everytime, without calling them. (Need to work more)"
      ],
      "metadata": {
        "id": "B2ndOzAmJBNu"
      }
    },
    {
      "cell_type": "code",
      "source": [
        "import time \n",
        "def test25(func):\n",
        "  def test26():\n",
        "    print(\"This will give you executation time of a function\")\n",
        "    start = time.time()\n",
        "    func()\n",
        "    print(func())\n",
        "    end = time.time()\n",
        "    print(end - start)\n",
        "  return test26\n"
      ],
      "metadata": {
        "id": "rs07svhvJTMc"
      },
      "execution_count": 1,
      "outputs": []
    },
    {
      "cell_type": "code",
      "source": [
        "@test25\n",
        "def test27():\n",
        "  \"\"\"\n",
        "  This is a function which will take a decorator for calculating a executation timeing of a function\n",
        "  \"\"\"\n",
        "  l = [4, 5, 6, 7, 8, 8]\n",
        "  l1 = []\n",
        "  for i in l:\n",
        "    if type(i) == int:\n",
        "      l1.append(i)\n",
        "  return l1"
      ],
      "metadata": {
        "id": "7a_WkzRyKMuy"
      },
      "execution_count": 2,
      "outputs": []
    },
    {
      "cell_type": "code",
      "source": [
        "test27()"
      ],
      "metadata": {
        "colab": {
          "base_uri": "https://localhost:8080/"
        },
        "id": "683IwQ3WKjFS",
        "outputId": "0314fb0d-8cc7-44e5-f9e9-72293a5cadb9"
      },
      "execution_count": 3,
      "outputs": [
        {
          "output_type": "stream",
          "name": "stdout",
          "text": [
            "This will give you executation time of a function\n",
            "[4, 5, 6, 7, 8, 8]\n",
            "2.4557113647460938e-05\n"
          ]
        }
      ]
    },
    {
      "cell_type": "markdown",
      "source": [
        "# **Decorators (some additional stuffs, bcz its bit hard)**\n",
        "\n",
        "Ref : codebasics : Python decorators tutorial"
      ],
      "metadata": {
        "id": "wHk2nZ4JNfeN"
      }
    },
    {
      "cell_type": "markdown",
      "source": [
        "**Where to use the decorators?**\n",
        "\n",
        "> When we are having a number of functions for example a function to find out the sqare and a cube and we have some common functions to be applied to all. Like the time taken to run each of the functions. We can do that in two ways.\n",
        "\n",
        "\n",
        "\n",
        "1.   Write the code to find the time in each function. (But its very time consumming and not the best practising way)\n",
        "2.   Use the decorators\n",
        "\n",
        "\n",
        "**Some use cases**\n",
        "\n",
        "\n",
        "\n",
        "1.   Timing\n",
        "2.   Logging\n",
        "\n",
        "\n",
        "\n",
        "\n",
        "\n"
      ],
      "metadata": {
        "id": "p3M9fUN3OGa5"
      }
    },
    {
      "cell_type": "code",
      "source": [
        "import time\n",
        "def time_it(func):\n",
        "    def wrapper(*args, **kwargs):\n",
        "        start = time.time()\n",
        "        result = func(*args,**kwargs)\n",
        "        end = time.time()\n",
        "        print(func.__name__ +\" took \" + str((end-start)*1000) + \"mil sec\")\n",
        "        return result\n",
        "    return wrapper\n",
        "\n",
        "@time_it\n",
        "def calc_square(numbers):\n",
        "    result = []\n",
        "    for number in numbers:\n",
        "        result.append(number*number)\n",
        "    return result\n",
        "\n",
        "@time_it\n",
        "def calc_cube(numbers):\n",
        "    result = []\n",
        "    for number in numbers:\n",
        "        result.append(number*number*number)\n",
        "    return result\n",
        "\n",
        "array = range(1,100000)\n",
        "out_square = calc_square(array)\n",
        "out_cube = calc_cube(array)"
      ],
      "metadata": {
        "colab": {
          "base_uri": "https://localhost:8080/"
        },
        "id": "ijmnp-ZgNwti",
        "outputId": "579016c7-e7b6-4917-a9ca-d89182780e54"
      },
      "execution_count": 4,
      "outputs": [
        {
          "output_type": "stream",
          "name": "stdout",
          "text": [
            "calc_square took 34.906864166259766mil sec\n",
            "calc_cube took 32.94515609741211mil sec\n"
          ]
        }
      ]
    }
  ]
}