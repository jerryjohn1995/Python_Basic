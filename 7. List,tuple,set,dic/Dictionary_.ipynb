{
  "nbformat": 4,
  "nbformat_minor": 0,
  "metadata": {
    "colab": {
      "provenance": []
    },
    "kernelspec": {
      "name": "python3",
      "display_name": "Python 3"
    },
    "language_info": {
      "name": "python"
    }
  },
  "cells": [
    {
      "cell_type": "markdown",
      "source": [
        "# **Python Dictionary**\n",
        "\n",
        "Meaning can be duplicated, not the word.\n",
        "\n",
        "No concept of indexes in dictionary, only key.\n",
        "\n",
        "List cant be use as a dictionary key.\n",
        "\n",
        "Tuples can be used as a key because its immutable. "
      ],
      "metadata": {
        "id": "K2nHTbJT6bjS"
      }
    },
    {
      "cell_type": "code",
      "execution_count": 1,
      "metadata": {
        "colab": {
          "base_uri": "https://localhost:8080/"
        },
        "id": "KVAa5_JY6WZG",
        "outputId": "fa5fa11a-116c-4e47-924f-5f5ad8d42c45"
      },
      "outputs": [
        {
          "output_type": "stream",
          "name": "stdout",
          "text": [
            "<class 'dict'>\n"
          ]
        }
      ],
      "source": [
        "d = {}\n",
        "print(type(d))"
      ]
    },
    {
      "cell_type": "code",
      "source": [
        "d = {1, 2, 3}\n",
        "print(type(d))"
      ],
      "metadata": {
        "colab": {
          "base_uri": "https://localhost:8080/"
        },
        "id": "4vPAfjk168oQ",
        "outputId": "e7092bf7-c7e3-4bf6-b8d7-57ef4fe9a1ee"
      },
      "execution_count": 2,
      "outputs": [
        {
          "output_type": "stream",
          "name": "stdout",
          "text": [
            "<class 'set'>\n"
          ]
        }
      ]
    },
    {
      "cell_type": "code",
      "source": [
        "d2 = {\"key1\" : \"jerry\", \"key2\" : [2, 3, 4, 5]}"
      ],
      "metadata": {
        "id": "yF-5wqKC7Bt1"
      },
      "execution_count": null,
      "outputs": []
    },
    {
      "cell_type": "markdown",
      "source": [
        "If you are having two key with same names, then the last value is saved."
      ],
      "metadata": {
        "id": "StBdZbVd8ZSJ"
      }
    },
    {
      "cell_type": "code",
      "source": [
        "d7 = {\"name\" : \"jerry\", \"org\" : \"ineuron\", \"mail id\" : \"jerry@ineuron.in\", \"name\" : \"basil\"}\n",
        "print(d7)"
      ],
      "metadata": {
        "colab": {
          "base_uri": "https://localhost:8080/"
        },
        "id": "9VV7xDLw8hz-",
        "outputId": "d3ab4baa-fbbf-45d6-f0ce-f0c10ff4994e"
      },
      "execution_count": 4,
      "outputs": [
        {
          "output_type": "stream",
          "name": "stdout",
          "text": [
            "{'name': 'basil', 'org': 'ineuron', 'mail id': 'jerry@ineuron.in'}\n"
          ]
        }
      ]
    },
    {
      "cell_type": "code",
      "source": [
        "#get the email id\n",
        "\n",
        "print(d7[\"mail id\"])"
      ],
      "metadata": {
        "colab": {
          "base_uri": "https://localhost:8080/"
        },
        "id": "pHumQF1P9O46",
        "outputId": "7dca2545-dcc8-47ee-a94a-66dbd8e08575"
      },
      "execution_count": 6,
      "outputs": [
        {
          "output_type": "stream",
          "name": "stdout",
          "text": [
            "jerry@ineuron.in\n"
          ]
        }
      ]
    },
    {
      "cell_type": "markdown",
      "source": [
        "# **List all the keys**"
      ],
      "metadata": {
        "id": "Q4umY7y79zoG"
      }
    },
    {
      "cell_type": "code",
      "source": [
        "print(d7.keys())\n",
        "print(list(d7.keys()))"
      ],
      "metadata": {
        "colab": {
          "base_uri": "https://localhost:8080/"
        },
        "id": "0qoxBc-l92j2",
        "outputId": "e59efb43-2eec-43dd-c9d1-076ecc54d1fc"
      },
      "execution_count": 12,
      "outputs": [
        {
          "output_type": "stream",
          "name": "stdout",
          "text": [
            "dict_keys(['name', 'org', 'mail id'])\n",
            "['name', 'org', 'mail id']\n"
          ]
        }
      ]
    },
    {
      "cell_type": "markdown",
      "source": [
        "# **Get all the values**"
      ],
      "metadata": {
        "id": "54J-YnAq-BZp"
      }
    },
    {
      "cell_type": "code",
      "source": [
        "print(d7.values())\n",
        "print(list(d7.values()))"
      ],
      "metadata": {
        "colab": {
          "base_uri": "https://localhost:8080/"
        },
        "id": "8NX3p4sz-EoJ",
        "outputId": "78486c67-f614-4212-a897-221274d1011c"
      },
      "execution_count": 13,
      "outputs": [
        {
          "output_type": "stream",
          "name": "stdout",
          "text": [
            "dict_values(['basil', 'ineuron', 'jerry@ineuron.in'])\n",
            "['basil', 'ineuron', 'jerry@ineuron.in']\n"
          ]
        }
      ]
    },
    {
      "cell_type": "markdown",
      "source": [
        "# **Get the key value pair as tuples**"
      ],
      "metadata": {
        "id": "ghfJohL6-Lwq"
      }
    },
    {
      "cell_type": "code",
      "source": [
        "print(d7.items())\n",
        "print(list(d7.items()))"
      ],
      "metadata": {
        "colab": {
          "base_uri": "https://localhost:8080/"
        },
        "id": "T00BrBbJ-PXZ",
        "outputId": "0c376cc2-1f3b-43c0-d28d-5f07c6306d95"
      },
      "execution_count": 14,
      "outputs": [
        {
          "output_type": "stream",
          "name": "stdout",
          "text": [
            "dict_items([('name', 'basil'), ('org', 'ineuron'), ('mail id', 'jerry@ineuron.in')])\n",
            "[('name', 'basil'), ('org', 'ineuron'), ('mail id', 'jerry@ineuron.in')]\n"
          ]
        }
      ]
    },
    {
      "cell_type": "markdown",
      "source": [
        "# **Nested Dictionary**"
      ],
      "metadata": {
        "id": "AWa97pCl-pZ4"
      }
    },
    {
      "cell_type": "code",
      "source": [
        "d8 = {\"name\" : \"jerry\", \"mentor\" : {\"name\" : \"anoop\", \"age\" : 20, \"mark\" : 49}}\n",
        "\n",
        "print(d8[\"mentor\"])"
      ],
      "metadata": {
        "colab": {
          "base_uri": "https://localhost:8080/"
        },
        "id": "GISfC3BH-tqy",
        "outputId": "17ccee99-fbfc-4543-d657-5af02b4291d3"
      },
      "execution_count": 17,
      "outputs": [
        {
          "output_type": "stream",
          "name": "stdout",
          "text": [
            "{'name': 'anoop', 'age': 20, 'mark': 49}\n"
          ]
        }
      ]
    },
    {
      "cell_type": "code",
      "source": [
        "print(d8[\"mentor\"][\"name\"])"
      ],
      "metadata": {
        "colab": {
          "base_uri": "https://localhost:8080/"
        },
        "id": "QlzciSO__DQn",
        "outputId": "92281515-da43-4986-893b-7b429ddea82f"
      },
      "execution_count": 18,
      "outputs": [
        {
          "output_type": "stream",
          "name": "stdout",
          "text": [
            "anoop\n"
          ]
        }
      ]
    },
    {
      "cell_type": "markdown",
      "source": [
        "# **List of values of a nested dictionary**"
      ],
      "metadata": {
        "id": "rsq-zKKB_ONJ"
      }
    },
    {
      "cell_type": "code",
      "source": [
        "print(list(d8[\"mentor\"].values()))"
      ],
      "metadata": {
        "colab": {
          "base_uri": "https://localhost:8080/"
        },
        "id": "cV3gp0qr_U7H",
        "outputId": "afe31990-a83c-4c21-ebf5-7d51e111df01"
      },
      "execution_count": 20,
      "outputs": [
        {
          "output_type": "stream",
          "name": "stdout",
          "text": [
            "['anoop', 20, 49]\n"
          ]
        }
      ]
    },
    {
      "cell_type": "code",
      "source": [
        "d9 = {\"name\" : \"jerry\", \"mentor\" : {\"name\" : \"anoop\", \"age\" : 20, \"mark\" : 49}, \"email\" : {1  : \"jerry@yahoo.com\", 2 : \"jj@gmail.com\"}}"
      ],
      "metadata": {
        "id": "uHzGZq98Eb1L"
      },
      "execution_count": 27,
      "outputs": []
    },
    {
      "cell_type": "code",
      "source": [
        "l = []\n",
        "for keys in d9.keys():\n",
        "  if type(d9[keys]) == dict:\n",
        "    l.append(list(d9[keys].values()))\n",
        "\n",
        "print(l)\n"
      ],
      "metadata": {
        "colab": {
          "base_uri": "https://localhost:8080/"
        },
        "id": "V408CQRtEvB-",
        "outputId": "13bc3cc5-326e-4c84-c22d-3158fa629325"
      },
      "execution_count": 28,
      "outputs": [
        {
          "output_type": "stream",
          "name": "stdout",
          "text": [
            "[['anoop', 20, 49], ['jerry@yahoo.com', 'jj@gmail.com']]\n"
          ]
        }
      ]
    },
    {
      "cell_type": "markdown",
      "source": [
        "# **Adding new key and value**"
      ],
      "metadata": {
        "id": "R2Zxz53IGQBA"
      }
    },
    {
      "cell_type": "code",
      "source": [
        "d9[\"new_key\"] = \"new_value\"\n",
        "print(d9)"
      ],
      "metadata": {
        "colab": {
          "base_uri": "https://localhost:8080/"
        },
        "id": "hAhsko_FGTSa",
        "outputId": "2ebd229a-8d11-4ceb-de78-c713ed55784f"
      },
      "execution_count": 29,
      "outputs": [
        {
          "output_type": "stream",
          "name": "stdout",
          "text": [
            "{'name': 'jerry', 'mentor': {'name': 'anoop', 'age': 20, 'mark': 49}, 'email': {1: 'jerry@yahoo.com', 2: 'jj@gmail.com'}, 'new_key': 'new_value'}\n"
          ]
        }
      ]
    },
    {
      "cell_type": "markdown",
      "source": [
        "# **Delete a dictionary**"
      ],
      "metadata": {
        "id": "jJ95VoktGrg8"
      }
    },
    {
      "cell_type": "code",
      "source": [
        "del d7"
      ],
      "metadata": {
        "id": "6VEjfuyOGw-f"
      },
      "execution_count": null,
      "outputs": []
    },
    {
      "cell_type": "markdown",
      "source": [
        "# **Delete a particular key**"
      ],
      "metadata": {
        "id": "6Q0xPhudG27S"
      }
    },
    {
      "cell_type": "code",
      "source": [
        "del d9[\"new_key\"]\n",
        "print(d9)"
      ],
      "metadata": {
        "colab": {
          "base_uri": "https://localhost:8080/"
        },
        "id": "qkjhBonWG6YH",
        "outputId": "b30b772f-356b-428b-a893-de8dd0ead8b5"
      },
      "execution_count": 30,
      "outputs": [
        {
          "output_type": "stream",
          "name": "stdout",
          "text": [
            "{'name': 'jerry', 'mentor': {'name': 'anoop', 'age': 20, 'mark': 49}, 'email': {1: 'jerry@yahoo.com', 2: 'jj@gmail.com'}}\n"
          ]
        }
      ]
    }
  ]
}